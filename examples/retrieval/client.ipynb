{
 "cells": [
  {
   "cell_type": "markdown",
   "metadata": {},
   "source": [
    "# Client\n",
    "\n",
    "Demo of a client interacting with a remote retriever. "
   ]
  },
  {
   "cell_type": "markdown",
   "metadata": {},
   "source": [
    "You can interact with this via API directly"
   ]
  },
  {
   "cell_type": "code",
   "execution_count": 8,
   "metadata": {
    "tags": []
   },
   "outputs": [
    {
     "data": {
      "text/plain": [
       "{'output': [{'page_content': 'dogs like sticks',\n",
       "   'metadata': {},\n",
       "   'type': 'Document'},\n",
       "  {'page_content': 'cats like fish', 'metadata': {}, 'type': 'Document'}],\n",
       " 'callback_events': [{'serialized': {'lc': 1,\n",
       "    'type': 'not_implemented',\n",
       "    'id': ['langchain', 'schema', 'vectorstore', 'VectorStoreRetriever'],\n",
       "    'repr': \"VectorStoreRetriever(tags=['FAISS', 'OpenAIEmbeddings'], vectorstore=<langchain.vectorstores.faiss.FAISS object at 0x7fae3a09b190>)\"},\n",
       "   'query': 'tree',\n",
       "   'run_id': 'd669ad4d-03c0-4b0a-8556-7c7ea6cfb365',\n",
       "   'parent_run_id': None,\n",
       "   'tags': ['FAISS', 'OpenAIEmbeddings'],\n",
       "   'metadata': {'__useragent': 'python-requests/2.31.0',\n",
       "    '__langserve_version': '0.0.15'},\n",
       "   'kwargs': {'name': None},\n",
       "   'type': 'on_retriever_start'},\n",
       "  {'documents': [{'page_content': 'dogs like sticks',\n",
       "     'metadata': {},\n",
       "     'type': 'Document'},\n",
       "    {'page_content': 'cats like fish', 'metadata': {}, 'type': 'Document'}],\n",
       "   'run_id': 'd669ad4d-03c0-4b0a-8556-7c7ea6cfb365',\n",
       "   'parent_run_id': None,\n",
       "   'tags': ['FAISS', 'OpenAIEmbeddings'],\n",
       "   'kwargs': {},\n",
       "   'type': 'on_retriever_end'}]}"
      ]
     },
     "execution_count": 8,
     "metadata": {},
     "output_type": "execute_result"
    }
   ],
   "source": [
    "import requests\n",
    "\n",
    "inputs = {\"input\": \"tree\"}\n",
    "response = requests.post(\"http://localhost:8000/invoke\", json=inputs)\n",
    "\n",
    "response.json()"
   ]
  },
  {
   "cell_type": "markdown",
   "metadata": {},
   "source": [
    "You can also interact with this via the RemoteRunnable interface (to use in other chains)"
   ]
  },
  {
   "cell_type": "code",
   "execution_count": 9,
   "metadata": {
    "tags": []
   },
   "outputs": [],
   "source": [
    "from langserve import RemoteRunnable\n",
    "\n",
    "remote_runnable = RemoteRunnable(\"http://localhost:8000/\")"
   ]
  },
  {
   "cell_type": "markdown",
   "metadata": {},
   "source": [
    "Remote runnable has the same interface as local runnables"
   ]
  },
  {
   "cell_type": "code",
   "execution_count": 10,
   "metadata": {
    "tags": []
   },
   "outputs": [
    {
     "data": {
      "text/plain": [
       "[Document(page_content='dogs like sticks'),\n",
       " Document(page_content='cats like fish')]"
      ]
     },
     "execution_count": 10,
     "metadata": {},
     "output_type": "execute_result"
    }
   ],
   "source": [
    "await remote_runnable.ainvoke(\"tree\")"
   ]
  },
  {
   "cell_type": "code",
   "execution_count": 11,
   "metadata": {
    "tags": []
   },
   "outputs": [
    {
     "data": {
      "text/plain": [
       "[Document(page_content='cats like fish'),\n",
       " Document(page_content='dogs like sticks')]"
      ]
     },
     "execution_count": 11,
     "metadata": {},
     "output_type": "execute_result"
    }
   ],
   "source": [
    "remote_runnable.invoke(\"water\")"
   ]
  },
  {
   "cell_type": "code",
   "execution_count": 12,
   "metadata": {
    "tags": []
   },
   "outputs": [
    {
     "data": {
      "text/plain": [
       "[[Document(page_content='dogs like sticks'),\n",
       "  Document(page_content='cats like fish')],\n",
       " [Document(page_content='cats like fish'),\n",
       "  Document(page_content='dogs like sticks')]]"
      ]
     },
     "execution_count": 12,
     "metadata": {},
     "output_type": "execute_result"
    }
   ],
   "source": [
    "await remote_runnable.abatch([\"wolf\", \"tiger\"])"
   ]
  },
  {
   "cell_type": "code",
   "execution_count": 14,
   "metadata": {
    "tags": []
   },
   "outputs": [
    {
     "data": {
      "text/plain": [
       "[[Document(page_content='dogs like sticks'),\n",
       "  Document(page_content='cats like fish')],\n",
       " [Document(page_content='cats like fish'),\n",
       "  Document(page_content='dogs like sticks')]]"
      ]
     },
     "execution_count": 14,
     "metadata": {},
     "output_type": "execute_result"
    }
   ],
   "source": [
    "remote_runnable.batch([\"wood\", \"feline\"], config={\"tags\": [\"client\"]})"
   ]
  },
  {
   "cell_type": "code",
   "execution_count": 13,
   "metadata": {
    "tags": []
   },
   "outputs": [
    {
     "name": "stdout",
     "output_type": "stream",
     "text": [
      "[Document(page_content='dogs like sticks', metadata={}), Document(page_content='cats like fish', metadata={})]\n"
     ]
    }
   ],
   "source": [
    "async for chunk in remote_runnable.astream(\"ball\"):\n",
    "    print(chunk)"
   ]
  },
  {
   "cell_type": "code",
   "execution_count": 14,
   "metadata": {
    "tags": []
   },
   "outputs": [
    {
     "name": "stdout",
     "output_type": "stream",
     "text": [
      "[Document(page_content='dogs like sticks', metadata={}), Document(page_content='cats like fish', metadata={})]\n"
     ]
    }
   ],
   "source": [
    "for chunk in remote_runnable.stream(\"ball\"):\n",
    "    print(chunk)"
   ]
  }
 ],
 "metadata": {
  "kernelspec": {
   "display_name": "Python 3 (ipykernel)",
   "language": "python",
   "name": "python3"
  },
  "language_info": {
   "codemirror_mode": {
    "name": "ipython",
    "version": 3
   },
   "file_extension": ".py",
   "mimetype": "text/x-python",
   "name": "python",
   "nbconvert_exporter": "python",
   "pygments_lexer": "ipython3",
   "version": "3.9.6"
  }
 },
 "nbformat": 4,
 "nbformat_minor": 4
}
