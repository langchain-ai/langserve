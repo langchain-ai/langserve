{
 "cells": [
  {
   "cell_type": "markdown",
   "metadata": {},
   "source": [
    "# Change"
   ]
  },
  {
   "cell_type": "markdown",
   "metadata": {},
   "source": [
    "# Client\n",
    "\n",
    "Demo of client interacting with the simple chain server, which deploys a chain that tells jokes about a particular topic."
   ]
  },
  {
   "cell_type": "markdown",
   "metadata": {},
   "source": [
    "You can interact with this via API directly"
   ]
  },
  {
   "cell_type": "code",
   "execution_count": 1,
   "metadata": {
    "tags": []
   },
   "outputs": [],
   "source": [
    "from langchain.chat_models import ChatOpenAI\n",
    "from langchain.prompts import ChatPromptTemplate\n",
    "from langserve.callbacks import AsyncEventAggregatorCallback\n",
    "from langchain.callbacks.tracers import LangChainTracer"
   ]
  },
  {
   "cell_type": "code",
   "execution_count": 2,
   "metadata": {
    "tags": []
   },
   "outputs": [],
   "source": [
    "a = AsyncEventAggregatorCallback()\n",
    "model = ChatOpenAI()\n",
    "prompt = ChatPromptTemplate.from_template(\"tell me a joke about {topic}\")\n",
    "chain = prompt | model"
   ]
  },
  {
   "cell_type": "code",
   "execution_count": 3,
   "metadata": {
    "tags": []
   },
   "outputs": [
    {
     "data": {
      "text/plain": [
       "AIMessage(content=\"Why was the math book sad at the baseball game?\\n\\nBecause it had too many ex's!\")"
      ]
     },
     "execution_count": 3,
     "metadata": {},
     "output_type": "execute_result"
    }
   ],
   "source": [
    "chain.invoke({'topic': 'sports'}, config={'callbacks': [a]})"
   ]
  },
  {
   "cell_type": "code",
   "execution_count": 42,
   "metadata": {
    "tags": []
   },
   "outputs": [
    {
     "data": {
      "text/plain": [
       "{'type': 'on_llm_end',\n",
       " 'response': LLMResult(generations=[[ChatGeneration(text=\"Why don't scientists trust atoms who play sports?\\n\\nBecause they make up everything!\", generation_info={'finish_reason': 'stop'}, message=AIMessage(content=\"Why don't scientists trust atoms who play sports?\\n\\nBecause they make up everything!\"))]], llm_output={'token_usage': <OpenAIObject at 0x7fc50119e220> JSON: {\n",
       "   \"prompt_tokens\": 13,\n",
       "   \"completion_tokens\": 16,\n",
       "   \"total_tokens\": 29\n",
       " }, 'model_name': 'gpt-3.5-turbo'}, run=None, type='LLMResult'),\n",
       " 'run_id': UUID('0391c33d-660d-4c9c-a2c8-bc4611d1016f'),\n",
       " 'parent_run_id': UUID('7710a611-691f-40b5-b1d0-5cdf25fec892'),\n",
       " 'tags': ['seq:step:2'],\n",
       " 'kwargs': {}}"
      ]
     },
     "execution_count": 42,
     "metadata": {},
     "output_type": "execute_result"
    }
   ],
   "source": [
    "a.callback_events[-2]"
   ]
  },
  {
   "cell_type": "code",
   "execution_count": 43,
   "metadata": {
    "tags": []
   },
   "outputs": [],
   "source": [
    "tracer = LangChainTracer(project_name='notebook')"
   ]
  },
  {
   "cell_type": "code",
   "execution_count": 1,
   "metadata": {
    "tags": []
   },
   "outputs": [],
   "source": [
    "from langserve import RemoteRunnable\n",
    "from langserve.callbacks import ahandle_callbacks, replace_uuids"
   ]
  },
  {
   "cell_type": "code",
   "execution_count": 2,
   "metadata": {
    "tags": []
   },
   "outputs": [],
   "source": [
    "remote_runnable = RemoteRunnable(\"http://localhost:8000/\")"
   ]
  },
  {
   "cell_type": "code",
   "execution_count": 3,
   "metadata": {
    "tags": []
   },
   "outputs": [
    {
     "name": "stdout",
     "output_type": "stream",
     "text": [
      "{'content': 'Why did the football coach go to the bakery?\\n\\nBecause he kneaded a good roll!', 'additional_kwargs': {}, 'type': 'ai', 'example': False}\n",
      "{'lc': 1, 'type': 'constructor', 'id': ['langchain', 'schema', 'runnable', 'RunnableSequence'], 'kwargs': {'first': {'lc': 1, 'type': 'constructor', 'id': ['langchain', 'prompts', 'chat', 'ChatPromptTemplate'], 'kwargs': {'input_variables': ['topic'], 'messages': [{'lc': 1, 'type': 'constructor', 'id': ['langchain', 'prompts', 'chat', 'HumanMessagePromptTemplate'], 'kwargs': {'prompt': {'lc': 1, 'type': 'constructor', 'id': ['langchain', 'prompts', 'prompt', 'PromptTemplate'], 'kwargs': {'input_variables': ['topic'], 'template': 'tell me a joke about {topic}', 'template_format': 'f-string', 'partial_variables': {}}}}}]}}, 'last': {'lc': 1, 'type': 'constructor', 'id': ['langchain', 'chat_models', 'openai', 'ChatOpenAI'], 'kwargs': {'openai_api_key': {'lc': 1, 'type': 'secret', 'id': ['OPENAI_API_KEY']}}}}}\n",
      "{'lc': 1, 'type': 'constructor', 'id': ['langchain', 'prompts', 'chat', 'ChatPromptTemplate'], 'kwargs': {'input_variables': ['topic'], 'messages': [{'lc': 1, 'type': 'constructor', 'id': ['langchain', 'prompts', 'chat', 'HumanMessagePromptTemplate'], 'kwargs': {'prompt': {'lc': 1, 'type': 'constructor', 'id': ['langchain', 'prompts', 'prompt', 'PromptTemplate'], 'kwargs': {'input_variables': ['topic'], 'template': 'tell me a joke about {topic}', 'template_format': 'f-string', 'partial_variables': {}}}}}]}}\n",
      "{'lc': 1, 'type': 'constructor', 'id': ['langchain', 'prompts', 'chat', 'HumanMessagePromptTemplate'], 'kwargs': {'prompt': {'lc': 1, 'type': 'constructor', 'id': ['langchain', 'prompts', 'prompt', 'PromptTemplate'], 'kwargs': {'input_variables': ['topic'], 'template': 'tell me a joke about {topic}', 'template_format': 'f-string', 'partial_variables': {}}}}}\n",
      "{'lc': 1, 'type': 'constructor', 'id': ['langchain', 'prompts', 'prompt', 'PromptTemplate'], 'kwargs': {'input_variables': ['topic'], 'template': 'tell me a joke about {topic}', 'template_format': 'f-string', 'partial_variables': {}}}\n",
      "{'lc': 1, 'type': 'constructor', 'id': ['langchain', 'chat_models', 'openai', 'ChatOpenAI'], 'kwargs': {'openai_api_key': {'lc': 1, 'type': 'secret', 'id': ['OPENAI_API_KEY']}}}\n",
      "{'lc': 1, 'type': 'secret', 'id': ['OPENAI_API_KEY']}\n",
      "{'lc': 1, 'type': 'constructor', 'id': ['langchain', 'prompts', 'chat', 'ChatPromptTemplate'], 'kwargs': {'input_variables': ['topic'], 'messages': [{'lc': 1, 'type': 'constructor', 'id': ['langchain', 'prompts', 'chat', 'HumanMessagePromptTemplate'], 'kwargs': {'prompt': {'lc': 1, 'type': 'constructor', 'id': ['langchain', 'prompts', 'prompt', 'PromptTemplate'], 'kwargs': {'input_variables': ['topic'], 'template': 'tell me a joke about {topic}', 'template_format': 'f-string', 'partial_variables': {}}}}}]}}\n",
      "{'lc': 1, 'type': 'constructor', 'id': ['langchain', 'prompts', 'chat', 'HumanMessagePromptTemplate'], 'kwargs': {'prompt': {'lc': 1, 'type': 'constructor', 'id': ['langchain', 'prompts', 'prompt', 'PromptTemplate'], 'kwargs': {'input_variables': ['topic'], 'template': 'tell me a joke about {topic}', 'template_format': 'f-string', 'partial_variables': {}}}}}\n",
      "{'lc': 1, 'type': 'constructor', 'id': ['langchain', 'prompts', 'prompt', 'PromptTemplate'], 'kwargs': {'input_variables': ['topic'], 'template': 'tell me a joke about {topic}', 'template_format': 'f-string', 'partial_variables': {}}}\n",
      "{'lc': 1, 'type': 'constructor', 'id': ['langchain', 'prompts', 'chat', 'ChatPromptValue'], 'kwargs': {'messages': [{'lc': 1, 'type': 'constructor', 'id': ['langchain', 'schema', 'messages', 'HumanMessage'], 'kwargs': {'content': 'tell me a joke about sports', 'additional_kwargs': {}}}]}}\n",
      "{'lc': 1, 'type': 'constructor', 'id': ['langchain', 'schema', 'messages', 'HumanMessage'], 'kwargs': {'content': 'tell me a joke about sports', 'additional_kwargs': {}}}\n",
      "{'lc': 1, 'type': 'constructor', 'id': ['langchain', 'chat_models', 'openai', 'ChatOpenAI'], 'kwargs': {'openai_api_key': {'lc': 1, 'type': 'secret', 'id': ['OPENAI_API_KEY']}}}\n",
      "{'lc': 1, 'type': 'secret', 'id': ['OPENAI_API_KEY']}\n",
      "{'content': 'tell me a joke about sports', 'additional_kwargs': {}, 'type': 'human', 'example': False}\n",
      "{'generations': [[{'text': 'Why did the football coach go to the bakery?\\n\\nBecause he kneaded a good roll!', 'generation_info': {'finish_reason': 'stop'}, 'message': {'content': 'Why did the football coach go to the bakery?\\n\\nBecause he kneaded a good roll!', 'additional_kwargs': {}, 'type': 'ai', 'example': False}, 'type': 'ChatGeneration'}]], 'llm_output': {'token_usage': {'prompt_tokens': 13, 'completion_tokens': 18, 'total_tokens': 31}, 'model_name': 'gpt-3.5-turbo'}, 'run': None, 'type': 'LLMResult'}\n",
      "{'text': 'Why did the football coach go to the bakery?\\n\\nBecause he kneaded a good roll!', 'generation_info': {'finish_reason': 'stop'}, 'message': {'content': 'Why did the football coach go to the bakery?\\n\\nBecause he kneaded a good roll!', 'additional_kwargs': {}, 'type': 'ai', 'example': False}, 'type': 'ChatGeneration'}\n",
      "meow!!\n",
      "{'content': 'Why did the football coach go to the bakery?\\n\\nBecause he kneaded a good roll!', 'additional_kwargs': {}, 'type': 'ai', 'example': False}\n",
      "{'content': 'Why did the football coach go to the bakery?\\n\\nBecause he kneaded a good roll!', 'additional_kwargs': {}, 'type': 'ai', 'example': False}\n"
     ]
    }
   ],
   "source": [
    "events = remote_runnable.invoke({'topic': \"sports\"})"
   ]
  },
  {
   "cell_type": "code",
   "execution_count": 4,
   "metadata": {
    "tags": []
   },
   "outputs": [
    {
     "data": {
      "text/plain": [
       "[{'response': LLMResult(generations=[[ChatGeneration(text='Why did the football coach go to the bakery?\\n\\nBecause he kneaded a good roll!', generation_info={'finish_reason': 'stop'}, message=AIMessage(content='Why did the football coach go to the bakery?\\n\\nBecause he kneaded a good roll!'))]], llm_output={'token_usage': {'prompt_tokens': 13, 'completion_tokens': 18, 'total_tokens': 31}, 'model_name': 'gpt-3.5-turbo'}, run=None, type='LLMResult'),\n",
       "  'run_id': 'dc64c257-4bc0-49e4-8adb-d4361c71a7e7',\n",
       "  'parent_run_id': 'cd3ef7f4-1461-4885-9028-57acc6e0b23c',\n",
       "  'tags': ['seq:step:2'],\n",
       "  'kwargs': {},\n",
       "  'type': 'on_llm_end'},\n",
       " {'outputs': AIMessage(content='Why did the football coach go to the bakery?\\n\\nBecause he kneaded a good roll!'),\n",
       "  'run_id': 'cd3ef7f4-1461-4885-9028-57acc6e0b23c',\n",
       "  'parent_run_id': None,\n",
       "  'tags': [],\n",
       "  'kwargs': {},\n",
       "  'type': 'on_chain_end'}]"
      ]
     },
     "execution_count": 4,
     "metadata": {},
     "output_type": "execute_result"
    }
   ],
   "source": [
    "events[-2:]"
   ]
  },
  {
   "cell_type": "code",
   "execution_count": 8,
   "metadata": {
    "tags": []
   },
   "outputs": [],
   "source": [
    "# events"
   ]
  },
  {
   "cell_type": "code",
   "execution_count": 9,
   "metadata": {
    "tags": []
   },
   "outputs": [],
   "source": [
    "callback_events = replace_uuids(events)"
   ]
  },
  {
   "cell_type": "code",
   "execution_count": 10,
   "metadata": {
    "tags": []
   },
   "outputs": [],
   "source": [
    "def get_data(event):\n",
    "    return {key: value for key, value in event.items() if key != \"type\"}\n"
   ]
  },
  {
   "cell_type": "code",
   "execution_count": 11,
   "metadata": {
    "tags": []
   },
   "outputs": [],
   "source": [
    "from langchain.schema.output import ChatGeneration, Generation"
   ]
  },
  {
   "cell_type": "code",
   "execution_count": 12,
   "metadata": {
    "tags": []
   },
   "outputs": [],
   "source": [
    "for event in callback_events:\n",
    "    type_ = event['type']\n",
    "    s = getattr(tracer, type_)\n",
    "    s(**get_data(event))"
   ]
  },
  {
   "cell_type": "code",
   "execution_count": 13,
   "metadata": {
    "tags": []
   },
   "outputs": [
    {
     "data": {
      "text/plain": [
       "[{'serialized': {'lc': 1,\n",
       "   'type': 'constructor',\n",
       "   'id': ['langchain', 'schema', 'runnable', 'RunnableSequence'],\n",
       "   'kwargs': {'first': {'lc': 1,\n",
       "     'type': 'constructor',\n",
       "     'id': ['langchain', 'prompts', 'chat', 'ChatPromptTemplate'],\n",
       "     'kwargs': {'input_variables': ['topic'],\n",
       "      'messages': [{'lc': 1,\n",
       "        'type': 'constructor',\n",
       "        'id': ['langchain', 'prompts', 'chat', 'HumanMessagePromptTemplate'],\n",
       "        'kwargs': {'prompt': {'lc': 1,\n",
       "          'type': 'constructor',\n",
       "          'id': ['langchain', 'prompts', 'prompt', 'PromptTemplate'],\n",
       "          'kwargs': {'input_variables': ['topic'],\n",
       "           'template': 'tell me a joke about {topic}',\n",
       "           'template_format': 'f-string',\n",
       "           'partial_variables': {}}}}}]}},\n",
       "    'last': {'lc': 1,\n",
       "     'type': 'constructor',\n",
       "     'id': ['langchain', 'chat_models', 'openai', 'ChatOpenAI'],\n",
       "     'kwargs': {'openai_api_key': {'lc': 1,\n",
       "       'type': 'secret',\n",
       "       'id': ['OPENAI_API_KEY']}}}}},\n",
       "  'inputs': {'topic': 'sports'},\n",
       "  'run_id': '7f5e0066-50c8-4d7f-ab79-ddfa290812bf',\n",
       "  'parent_run_id': None,\n",
       "  'tags': [],\n",
       "  'metadata': {'__useragent': 'python-httpx/0.25.0',\n",
       "   '__langserve_version': '0.0.8'},\n",
       "  'kwargs': {'name': None},\n",
       "  'type': 'on_chain_start'},\n",
       " {'serialized': {'lc': 1,\n",
       "   'type': 'constructor',\n",
       "   'id': ['langchain', 'prompts', 'chat', 'ChatPromptTemplate'],\n",
       "   'kwargs': {'input_variables': ['topic'],\n",
       "    'messages': [{'lc': 1,\n",
       "      'type': 'constructor',\n",
       "      'id': ['langchain', 'prompts', 'chat', 'HumanMessagePromptTemplate'],\n",
       "      'kwargs': {'prompt': {'lc': 1,\n",
       "        'type': 'constructor',\n",
       "        'id': ['langchain', 'prompts', 'prompt', 'PromptTemplate'],\n",
       "        'kwargs': {'input_variables': ['topic'],\n",
       "         'template': 'tell me a joke about {topic}',\n",
       "         'template_format': 'f-string',\n",
       "         'partial_variables': {}}}}}]}},\n",
       "  'inputs': {'topic': 'sports'},\n",
       "  'run_id': 'b3b79618-5b5e-41f3-b465-2ecfb2da2aca',\n",
       "  'parent_run_id': '7f5e0066-50c8-4d7f-ab79-ddfa290812bf',\n",
       "  'tags': ['seq:step:1'],\n",
       "  'metadata': {'__useragent': 'python-httpx/0.25.0',\n",
       "   '__langserve_version': '0.0.8'},\n",
       "  'kwargs': {'run_type': 'prompt', 'name': None},\n",
       "  'type': 'on_chain_start'},\n",
       " {'outputs': {'lc': 1,\n",
       "   'type': 'constructor',\n",
       "   'id': ['langchain', 'prompts', 'chat', 'ChatPromptValue'],\n",
       "   'kwargs': {'messages': [{'lc': 1,\n",
       "      'type': 'constructor',\n",
       "      'id': ['langchain', 'schema', 'messages', 'HumanMessage'],\n",
       "      'kwargs': HumanMessage(content='tell me a joke about sports')}]}},\n",
       "  'run_id': 'b3b79618-5b5e-41f3-b465-2ecfb2da2aca',\n",
       "  'parent_run_id': '7f5e0066-50c8-4d7f-ab79-ddfa290812bf',\n",
       "  'tags': ['seq:step:1'],\n",
       "  'kwargs': {},\n",
       "  'type': 'on_chain_end'},\n",
       " {'serialized': {'lc': 1,\n",
       "   'type': 'constructor',\n",
       "   'id': ['langchain', 'chat_models', 'openai', 'ChatOpenAI'],\n",
       "   'kwargs': {'openai_api_key': {'lc': 1,\n",
       "     'type': 'secret',\n",
       "     'id': ['OPENAI_API_KEY']}}},\n",
       "  'messages': [[HumanMessage(content='tell me a joke about sports')]],\n",
       "  'run_id': 'b532c51c-36d0-407f-9e65-e27cf45a1b06',\n",
       "  'parent_run_id': '7f5e0066-50c8-4d7f-ab79-ddfa290812bf',\n",
       "  'tags': ['seq:step:2'],\n",
       "  'metadata': {'__useragent': 'python-httpx/0.25.0',\n",
       "   '__langserve_version': '0.0.8'},\n",
       "  'kwargs': {'invocation_params': {'model': 'gpt-3.5-turbo',\n",
       "    'model_name': 'gpt-3.5-turbo',\n",
       "    'request_timeout': None,\n",
       "    'max_tokens': None,\n",
       "    'stream': False,\n",
       "    'n': 1,\n",
       "    'temperature': 0.7,\n",
       "    '_type': 'openai-chat',\n",
       "    'stop': None},\n",
       "   'options': {'stop': None},\n",
       "   'name': None},\n",
       "  'type': 'on_chat_model_start'},\n",
       " {'response': LLMResult(generations=[[Generation(text=\"Why don't scientists trust atoms who play sports? \\n\\nBecause they make up everything!\", generation_info={'finish_reason': 'stop'})]], llm_output={'token_usage': {'prompt_tokens': 13, 'completion_tokens': 17, 'total_tokens': 30}, 'model_name': 'gpt-3.5-turbo'}, run=None, type='LLMResult'),\n",
       "  'run_id': 'b532c51c-36d0-407f-9e65-e27cf45a1b06',\n",
       "  'parent_run_id': '7f5e0066-50c8-4d7f-ab79-ddfa290812bf',\n",
       "  'tags': ['seq:step:2'],\n",
       "  'kwargs': {},\n",
       "  'type': 'on_llm_end'},\n",
       " {'outputs': AIMessage(content=\"Why don't scientists trust atoms who play sports? \\n\\nBecause they make up everything!\"),\n",
       "  'run_id': '7f5e0066-50c8-4d7f-ab79-ddfa290812bf',\n",
       "  'parent_run_id': None,\n",
       "  'tags': [],\n",
       "  'kwargs': {},\n",
       "  'type': 'on_chain_end'}]"
      ]
     },
     "execution_count": 13,
     "metadata": {},
     "output_type": "execute_result"
    }
   ],
   "source": [
    "events"
   ]
  },
  {
   "cell_type": "code",
   "execution_count": 26,
   "metadata": {
    "tags": []
   },
   "outputs": [
    {
     "data": {
      "text/plain": [
       "Run(id=UUID('09e606d4-ec4b-4d00-b612-9d4b275fdf3d'), name='RunnableSequence', start_time=datetime.datetime(2023, 10, 22, 2, 10, 29, 492535), run_type='chain', end_time=None, extra={'kwargs': {'name': None}, 'metadata': {'__useragent': 'python-httpx/0.25.0', '__langserve_version': '0.0.8'}}, error=None, serialized={'lc': 1, 'type': 'constructor', 'id': ['langchain', 'schema', 'runnable', 'RunnableSequence'], 'kwargs': {'first': {'lc': 1, 'type': 'constructor', 'id': ['langchain', 'prompts', 'chat', 'ChatPromptTemplate'], 'kwargs': {'input_variables': ['topic'], 'messages': [{'lc': 1, 'type': 'constructor', 'id': ['langchain', 'prompts', 'chat', 'HumanMessagePromptTemplate'], 'kwargs': {'prompt': {'lc': 1, 'type': 'constructor', 'id': ['langchain', 'prompts', 'prompt', 'PromptTemplate'], 'kwargs': {'input_variables': ['topic'], 'template': 'tell me a joke about {topic}', 'template_format': 'f-string', 'partial_variables': {}}}}}]}}, 'last': {'lc': 1, 'type': 'constructor', 'id': ['langchain', 'chat_models', 'openai', 'ChatOpenAI'], 'kwargs': {'openai_api_key': {'lc': 1, 'type': 'secret', 'id': ['OPENAI_API_KEY']}}}}}, events=[{'name': 'start', 'time': datetime.datetime(2023, 10, 22, 2, 10, 29, 492535)}], inputs={'topic': 'sports'}, outputs=None, reference_example_id=None, parent_run_id=None, tags=[], execution_order=1, child_execution_order=1, child_runs=[])"
      ]
     },
     "execution_count": 26,
     "metadata": {},
     "output_type": "execute_result"
    }
   ],
   "source": [
    "tracer.on_chain_start(**get_data(z1))"
   ]
  },
  {
   "cell_type": "code",
   "execution_count": 27,
   "metadata": {
    "tags": []
   },
   "outputs": [
    {
     "data": {
      "text/plain": [
       "Run(id=UUID('09e606d4-ec4b-4d00-b612-9d4b275fdf3d'), name='RunnableSequence', start_time=datetime.datetime(2023, 10, 22, 2, 10, 29, 492535), run_type='chain', end_time=datetime.datetime(2023, 10, 22, 2, 11, 10, 443465), extra={'kwargs': {'name': None}, 'metadata': {'__useragent': 'python-httpx/0.25.0', '__langserve_version': '0.0.8'}}, error=None, serialized={'lc': 1, 'type': 'constructor', 'id': ['langchain', 'schema', 'runnable', 'RunnableSequence'], 'kwargs': {'first': {'lc': 1, 'type': 'constructor', 'id': ['langchain', 'prompts', 'chat', 'ChatPromptTemplate'], 'kwargs': {'input_variables': ['topic'], 'messages': [{'lc': 1, 'type': 'constructor', 'id': ['langchain', 'prompts', 'chat', 'HumanMessagePromptTemplate'], 'kwargs': {'prompt': {'lc': 1, 'type': 'constructor', 'id': ['langchain', 'prompts', 'prompt', 'PromptTemplate'], 'kwargs': {'input_variables': ['topic'], 'template': 'tell me a joke about {topic}', 'template_format': 'f-string', 'partial_variables': {}}}}}]}}, 'last': {'lc': 1, 'type': 'constructor', 'id': ['langchain', 'chat_models', 'openai', 'ChatOpenAI'], 'kwargs': {'openai_api_key': {'lc': 1, 'type': 'secret', 'id': ['OPENAI_API_KEY']}}}}}, events=[{'name': 'start', 'time': datetime.datetime(2023, 10, 22, 2, 10, 29, 492535)}, {'name': 'end', 'time': datetime.datetime(2023, 10, 22, 2, 11, 10, 443465)}], inputs={'topic': 'sports'}, outputs={'output': AIMessage(content=\"Why don't scientists trust atoms playing sports?\\n\\nBecause they make up everything!\")}, reference_example_id=None, parent_run_id=None, tags=[], execution_order=1, child_execution_order=1, child_runs=[])"
      ]
     },
     "execution_count": 27,
     "metadata": {},
     "output_type": "execute_result"
    }
   ],
   "source": [
    "tracer.on_chain_end(**get_data(events[-1]))"
   ]
  },
  {
   "cell_type": "code",
   "execution_count": null,
   "metadata": {},
   "outputs": [],
   "source": [
    "tracer."
   ]
  },
  {
   "cell_type": "code",
   "execution_count": 14,
   "metadata": {
    "tags": []
   },
   "outputs": [
    {
     "data": {
      "text/plain": [
       "[{'serialized': {'lc': 1,\n",
       "   'type': 'constructor',\n",
       "   'id': ['langchain', 'schema', 'runnable', 'RunnableSequence'],\n",
       "   'kwargs': {'first': {'lc': 1,\n",
       "     'type': 'constructor',\n",
       "     'id': ['langchain', 'prompts', 'chat', 'ChatPromptTemplate'],\n",
       "     'kwargs': {'input_variables': ['topic'],\n",
       "      'messages': [{'lc': 1,\n",
       "        'type': 'constructor',\n",
       "        'id': ['langchain', 'prompts', 'chat', 'HumanMessagePromptTemplate'],\n",
       "        'kwargs': {'prompt': {'lc': 1,\n",
       "          'type': 'constructor',\n",
       "          'id': ['langchain', 'prompts', 'prompt', 'PromptTemplate'],\n",
       "          'kwargs': {'input_variables': ['topic'],\n",
       "           'template': 'tell me a joke about {topic}',\n",
       "           'template_format': 'f-string',\n",
       "           'partial_variables': {}}}}}]}},\n",
       "    'last': {'lc': 1,\n",
       "     'type': 'constructor',\n",
       "     'id': ['langchain', 'chat_models', 'openai', 'ChatOpenAI'],\n",
       "     'kwargs': {'openai_api_key': {'lc': 1,\n",
       "       'type': 'secret',\n",
       "       'id': ['OPENAI_API_KEY']}}}}},\n",
       "  'inputs': {'topic': 'sports'},\n",
       "  'run_id': '366001b8-9e8c-4883-ab03-8818d4cd5574',\n",
       "  'parent_run_id': None,\n",
       "  'tags': [],\n",
       "  'metadata': {'__useragent': 'python-httpx/0.25.0',\n",
       "   '__langserve_version': '0.0.8'},\n",
       "  'kwargs': {'name': None},\n",
       "  'type': 'on_chain_start'},\n",
       " {'serialized': {'lc': 1,\n",
       "   'type': 'constructor',\n",
       "   'id': ['langchain', 'prompts', 'chat', 'ChatPromptTemplate'],\n",
       "   'kwargs': {'input_variables': ['topic'],\n",
       "    'messages': [{'lc': 1,\n",
       "      'type': 'constructor',\n",
       "      'id': ['langchain', 'prompts', 'chat', 'HumanMessagePromptTemplate'],\n",
       "      'kwargs': {'prompt': {'lc': 1,\n",
       "        'type': 'constructor',\n",
       "        'id': ['langchain', 'prompts', 'prompt', 'PromptTemplate'],\n",
       "        'kwargs': {'input_variables': ['topic'],\n",
       "         'template': 'tell me a joke about {topic}',\n",
       "         'template_format': 'f-string',\n",
       "         'partial_variables': {}}}}}]}},\n",
       "  'inputs': {'topic': 'sports'},\n",
       "  'run_id': 'e2f5c7ad-1fb6-4d00-ad34-516047417b01',\n",
       "  'parent_run_id': '366001b8-9e8c-4883-ab03-8818d4cd5574',\n",
       "  'tags': ['seq:step:1'],\n",
       "  'metadata': {'__useragent': 'python-httpx/0.25.0',\n",
       "   '__langserve_version': '0.0.8'},\n",
       "  'kwargs': {'run_type': 'prompt', 'name': None},\n",
       "  'type': 'on_chain_start'},\n",
       " {'outputs': {'lc': 1,\n",
       "   'type': 'constructor',\n",
       "   'id': ['langchain', 'prompts', 'chat', 'ChatPromptValue'],\n",
       "   'kwargs': {'messages': [{'lc': 1,\n",
       "      'type': 'constructor',\n",
       "      'id': ['langchain', 'schema', 'messages', 'HumanMessage'],\n",
       "      'kwargs': HumanMessage(content='tell me a joke about sports')}]}},\n",
       "  'run_id': 'e2f5c7ad-1fb6-4d00-ad34-516047417b01',\n",
       "  'parent_run_id': '366001b8-9e8c-4883-ab03-8818d4cd5574',\n",
       "  'tags': ['seq:step:1'],\n",
       "  'kwargs': {},\n",
       "  'type': 'on_chain_end'},\n",
       " {'serialized': {'lc': 1,\n",
       "   'type': 'constructor',\n",
       "   'id': ['langchain', 'chat_models', 'openai', 'ChatOpenAI'],\n",
       "   'kwargs': {'openai_api_key': {'lc': 1,\n",
       "     'type': 'secret',\n",
       "     'id': ['OPENAI_API_KEY']}}},\n",
       "  'messages': [[HumanMessage(content='tell me a joke about sports')]],\n",
       "  'run_id': 'be4f9eb6-3a16-4108-9661-637d3bedec43',\n",
       "  'parent_run_id': '366001b8-9e8c-4883-ab03-8818d4cd5574',\n",
       "  'tags': ['seq:step:2'],\n",
       "  'metadata': {'__useragent': 'python-httpx/0.25.0',\n",
       "   '__langserve_version': '0.0.8'},\n",
       "  'kwargs': {'invocation_params': {'model': 'gpt-3.5-turbo',\n",
       "    'model_name': 'gpt-3.5-turbo',\n",
       "    'request_timeout': None,\n",
       "    'max_tokens': None,\n",
       "    'stream': False,\n",
       "    'n': 1,\n",
       "    'temperature': 0.7,\n",
       "    '_type': 'openai-chat',\n",
       "    'stop': None},\n",
       "   'options': {'stop': None},\n",
       "   'name': None},\n",
       "  'type': 'on_chat_model_start'},\n",
       " {'response': LLMResult(generations=[[Generation(text=\"Why don't scientists trust atoms playing sports?\\n\\nBecause they make up everything!\", generation_info={'finish_reason': 'stop'})]], llm_output={'token_usage': {'prompt_tokens': 13, 'completion_tokens': 15, 'total_tokens': 28}, 'model_name': 'gpt-3.5-turbo'}, run=None),\n",
       "  'run_id': 'be4f9eb6-3a16-4108-9661-637d3bedec43',\n",
       "  'parent_run_id': '366001b8-9e8c-4883-ab03-8818d4cd5574',\n",
       "  'tags': ['seq:step:2'],\n",
       "  'kwargs': {},\n",
       "  'type': 'on_llm_end'},\n",
       " {'outputs': AIMessage(content=\"Why don't scientists trust atoms playing sports?\\n\\nBecause they make up everything!\"),\n",
       "  'run_id': '366001b8-9e8c-4883-ab03-8818d4cd5574',\n",
       "  'parent_run_id': None,\n",
       "  'tags': [],\n",
       "  'kwargs': {},\n",
       "  'type': 'on_chain_end'}]"
      ]
     },
     "execution_count": 14,
     "metadata": {},
     "output_type": "execute_result"
    }
   ],
   "source": [
    "ahandle_callbacks("
   ]
  },
  {
   "cell_type": "code",
   "execution_count": null,
   "metadata": {},
   "outputs": [],
   "source": []
  },
  {
   "cell_type": "code",
   "execution_count": 4,
   "metadata": {
    "tags": []
   },
   "outputs": [],
   "source": [
    "# a.callback_events"
   ]
  },
  {
   "cell_type": "code",
   "execution_count": 2,
   "metadata": {
    "tags": []
   },
   "outputs": [],
   "source": [
    "# import requests\n",
    "\n",
    "# inputs = {\"input\": {\"topic\": \"sports\"}}\n",
    "# response = requests.post(\"http://localhost:8000/invoke\", json=inputs)\n",
    "\n",
    "# response.json()"
   ]
  },
  {
   "cell_type": "markdown",
   "metadata": {},
   "source": [
    "You can also interact with this via the RemoteRunnable interface (to use in other chains)"
   ]
  },
  {
   "cell_type": "code",
   "execution_count": 15,
   "metadata": {
    "tags": []
   },
   "outputs": [],
   "source": [
    "from langserve.callbacks import AsyncEventAggregatorCallback"
   ]
  },
  {
   "cell_type": "code",
   "execution_count": 1,
   "metadata": {
    "tags": []
   },
   "outputs": [],
   "source": [
    "from langserve import RemoteRunnable\n",
    "\n",
    "remote_runnable = RemoteRunnable(\"http://localhost:8000/\")"
   ]
  },
  {
   "cell_type": "markdown",
   "metadata": {},
   "source": [
    "Remote runnable has the same interface as local runnables"
   ]
  },
  {
   "cell_type": "code",
   "execution_count": 2,
   "metadata": {
    "tags": []
   },
   "outputs": [],
   "source": [
    "s = remote_runnable.invoke({\"topic\": \"sports\"})"
   ]
  },
  {
   "cell_type": "code",
   "execution_count": 8,
   "metadata": {
    "tags": []
   },
   "outputs": [
    {
     "name": "stdout",
     "output_type": "stream",
     "text": [
      "-\n",
      "on_chain_start\n",
      "80d5f44d-e13f-44ee-9961-4d3503e9bcb3\n",
      "None\n",
      "{'serialized': {'lc': 1, 'type': 'constructor', 'id': ['langchain', 'schema', 'runnable', 'RunnableSequence'], 'kwargs': {'first': {'lc': 1, 'type': 'constructor', 'id': ['langchain', 'prompts', 'chat', 'ChatPromptTemplate'], 'kwargs': {'input_variables': ['topic'], 'messages': [{'lc': 1, 'type': 'constructor', 'id': ['langchain', 'prompts', 'chat', 'HumanMessagePromptTemplate'], 'kwargs': {'prompt': {'lc': 1, 'type': 'constructor', 'id': ['langchain', 'prompts', 'prompt', 'PromptTemplate'], 'kwargs': {'input_variables': ['topic'], 'template': 'tell me a joke about {topic}', 'template_format': 'f-string', 'partial_variables': {}}}}}]}}, 'last': {'lc': 1, 'type': 'constructor', 'id': ['langchain', 'chat_models', 'openai', 'ChatOpenAI'], 'kwargs': {'openai_api_key': {'lc': 1, 'type': 'secret', 'id': ['OPENAI_API_KEY']}}}}}, 'inputs': {'topic': 'sports'}, 'run_id': '80d5f44d-e13f-44ee-9961-4d3503e9bcb3', 'parent_run_id': None, 'tags': [], 'metadata': {'__useragent': 'python-httpx/0.25.0', '__langserve_version': '0.0.8'}, 'kwargs': {'name': None}, 'type': 'on_chain_start'}\n",
      "-\n",
      "on_chain_start\n",
      "b988bf0a-69dd-49fd-91f7-b9a2bcced8fe\n",
      "80d5f44d-e13f-44ee-9961-4d3503e9bcb3\n",
      "{'serialized': {'lc': 1, 'type': 'constructor', 'id': ['langchain', 'prompts', 'chat', 'ChatPromptTemplate'], 'kwargs': {'input_variables': ['topic'], 'messages': [{'lc': 1, 'type': 'constructor', 'id': ['langchain', 'prompts', 'chat', 'HumanMessagePromptTemplate'], 'kwargs': {'prompt': {'lc': 1, 'type': 'constructor', 'id': ['langchain', 'prompts', 'prompt', 'PromptTemplate'], 'kwargs': {'input_variables': ['topic'], 'template': 'tell me a joke about {topic}', 'template_format': 'f-string', 'partial_variables': {}}}}}]}}, 'inputs': {'topic': 'sports'}, 'run_id': 'b988bf0a-69dd-49fd-91f7-b9a2bcced8fe', 'parent_run_id': '80d5f44d-e13f-44ee-9961-4d3503e9bcb3', 'tags': ['seq:step:1'], 'metadata': {'__useragent': 'python-httpx/0.25.0', '__langserve_version': '0.0.8'}, 'kwargs': {'run_type': 'prompt', 'name': None}, 'type': 'on_chain_start'}\n",
      "-\n",
      "on_chain_end\n",
      "b988bf0a-69dd-49fd-91f7-b9a2bcced8fe\n",
      "80d5f44d-e13f-44ee-9961-4d3503e9bcb3\n",
      "{'outputs': {'lc': 1, 'type': 'constructor', 'id': ['langchain', 'prompts', 'chat', 'ChatPromptValue'], 'kwargs': {'messages': [{'lc': 1, 'type': 'constructor', 'id': ['langchain', 'schema', 'messages', 'HumanMessage'], 'kwargs': HumanMessage(content='tell me a joke about sports')}]}}, 'run_id': 'b988bf0a-69dd-49fd-91f7-b9a2bcced8fe', 'parent_run_id': '80d5f44d-e13f-44ee-9961-4d3503e9bcb3', 'tags': ['seq:step:1'], 'kwargs': {}, 'type': 'on_chain_end'}\n",
      "-\n",
      "on_chat_model_start\n",
      "55ed1523-9df6-415d-a0f1-1d87c16cc36f\n",
      "80d5f44d-e13f-44ee-9961-4d3503e9bcb3\n",
      "{'serialized': {'lc': 1, 'type': 'constructor', 'id': ['langchain', 'chat_models', 'openai', 'ChatOpenAI'], 'kwargs': {'openai_api_key': {'lc': 1, 'type': 'secret', 'id': ['OPENAI_API_KEY']}}}, 'messages': [[HumanMessage(content='tell me a joke about sports')]], 'run_id': '55ed1523-9df6-415d-a0f1-1d87c16cc36f', 'parent_run_id': '80d5f44d-e13f-44ee-9961-4d3503e9bcb3', 'tags': ['seq:step:2'], 'metadata': {'__useragent': 'python-httpx/0.25.0', '__langserve_version': '0.0.8'}, 'kwargs': {'invocation_params': {'model': 'gpt-3.5-turbo', 'model_name': 'gpt-3.5-turbo', 'request_timeout': None, 'max_tokens': None, 'stream': False, 'n': 1, 'temperature': 0.7, '_type': 'openai-chat', 'stop': None}, 'options': {'stop': None}, 'name': None}, 'type': 'on_chat_model_start'}\n",
      "-\n",
      "on_llm_end\n",
      "55ed1523-9df6-415d-a0f1-1d87c16cc36f\n",
      "80d5f44d-e13f-44ee-9961-4d3503e9bcb3\n",
      "{'response': LLMResult(generations=[[Generation(text=\"Why don't scientists trust atoms when it comes to playing sports?\\n\\nBecause they make up everything!\", generation_info={'finish_reason': 'stop'})]], llm_output={'token_usage': {'prompt_tokens': 13, 'completion_tokens': 19, 'total_tokens': 32}, 'model_name': 'gpt-3.5-turbo'}, run=None), 'run_id': '55ed1523-9df6-415d-a0f1-1d87c16cc36f', 'parent_run_id': '80d5f44d-e13f-44ee-9961-4d3503e9bcb3', 'tags': ['seq:step:2'], 'kwargs': {}, 'type': 'on_llm_end'}\n",
      "-\n",
      "on_chain_end\n",
      "80d5f44d-e13f-44ee-9961-4d3503e9bcb3\n",
      "None\n",
      "{'outputs': AIMessage(content=\"Why don't scientists trust atoms when it comes to playing sports?\\n\\nBecause they make up everything!\"), 'run_id': '80d5f44d-e13f-44ee-9961-4d3503e9bcb3', 'parent_run_id': None, 'tags': [], 'kwargs': {}, 'type': 'on_chain_end'}\n"
     ]
    }
   ],
   "source": [
    "for e in s:\n",
    "    print('-')\n",
    "    print(e['type'])\n",
    "    print(e['run_id'])\n",
    "    print(e['parent_run_id'])\n",
    "    print(e)"
   ]
  },
  {
   "cell_type": "code",
   "execution_count": 13,
   "metadata": {
    "tags": []
   },
   "outputs": [],
   "source": [
    "s = await remote_runnable.ainvoke({\"topic\": \"sports\"})"
   ]
  },
  {
   "cell_type": "code",
   "execution_count": 14,
   "metadata": {
    "tags": []
   },
   "outputs": [
    {
     "data": {
      "text/plain": [
       "AIMessage(content=\"Why don't scientists trust atoms who play sports?\\n\\nBecause they make up everything!\")"
      ]
     },
     "execution_count": 14,
     "metadata": {},
     "output_type": "execute_result"
    }
   ],
   "source": [
    "s"
   ]
  },
  {
   "cell_type": "code",
   "execution_count": 12,
   "metadata": {
    "tags": []
   },
   "outputs": [
    {
     "data": {
      "text/plain": [
       "[{'type': 'on_chain_start',\n",
       "  'serialized': {'lc': 1,\n",
       "   'type': 'not_implemented',\n",
       "   'id': ['langserve', 'client', 'RemoteRunnable'],\n",
       "   'repr': '<langserve.client.RemoteRunnable object at 0x7f28b38fa970>'},\n",
       "  'inputs': {'topic': 'sports'},\n",
       "  'run_id': UUID('d1cb728a-f9fe-4149-8ec4-66e968749544'),\n",
       "  'parent_run_id': None,\n",
       "  'tags': [],\n",
       "  'metadata': {},\n",
       "  'kwargs': {'run_type': None, 'name': None}},\n",
       " {'type': 'on_chain_error',\n",
       "  'error': {'status_code': 500, 'message': 'Internal Server Error'},\n",
       "  'run_id': UUID('d1cb728a-f9fe-4149-8ec4-66e968749544'),\n",
       "  'parent_run_id': None,\n",
       "  'tags': [],\n",
       "  'kwargs': {}}]"
      ]
     },
     "execution_count": 12,
     "metadata": {},
     "output_type": "execute_result"
    }
   ],
   "source": [
    "a.callback_events"
   ]
  },
  {
   "cell_type": "code",
   "execution_count": 8,
   "metadata": {
    "tags": []
   },
   "outputs": [
    {
     "data": {
      "text/plain": [
       "[{'serialized': {'lc': 1,\n",
       "   'type': 'constructor',\n",
       "   'id': ['langchain', 'schema', 'runnable', 'RunnableSequence'],\n",
       "   'kwargs': {'first': {'lc': 1,\n",
       "     'type': 'constructor',\n",
       "     'id': ['langchain', 'prompts', 'chat', 'ChatPromptTemplate'],\n",
       "     'kwargs': {'input_variables': ['topic'],\n",
       "      'messages': [{'lc': 1,\n",
       "        'type': 'constructor',\n",
       "        'id': ['langchain', 'prompts', 'chat', 'HumanMessagePromptTemplate'],\n",
       "        'kwargs': {'prompt': {'lc': 1,\n",
       "          'type': 'constructor',\n",
       "          'id': ['langchain', 'prompts', 'prompt', 'PromptTemplate'],\n",
       "          'kwargs': {'input_variables': ['topic'],\n",
       "           'template': 'tell me a joke about {topic}',\n",
       "           'template_format': 'f-string',\n",
       "           'partial_variables': {}}}}}]}},\n",
       "    'last': {'lc': 1,\n",
       "     'type': 'constructor',\n",
       "     'id': ['langchain', 'chat_models', 'openai', 'ChatOpenAI'],\n",
       "     'kwargs': {'openai_api_key': {'lc': 1,\n",
       "       'type': 'secret',\n",
       "       'id': ['OPENAI_API_KEY']}}}}},\n",
       "  'inputs': {'topic': 'sports'},\n",
       "  'run_id': '37657598-2651-41da-b55a-e5dc960f650b',\n",
       "  'parent_run_id': None,\n",
       "  'tags': [],\n",
       "  'metadata': {'__useragent': 'python-httpx/0.25.0',\n",
       "   '__langserve_version': '0.0.8'},\n",
       "  'kwargs': {'name': None},\n",
       "  'type': 'on_chain_start'},\n",
       " {'serialized': {'lc': 1,\n",
       "   'type': 'constructor',\n",
       "   'id': ['langchain', 'prompts', 'chat', 'ChatPromptTemplate'],\n",
       "   'kwargs': {'input_variables': ['topic'],\n",
       "    'messages': [{'lc': 1,\n",
       "      'type': 'constructor',\n",
       "      'id': ['langchain', 'prompts', 'chat', 'HumanMessagePromptTemplate'],\n",
       "      'kwargs': {'prompt': {'lc': 1,\n",
       "        'type': 'constructor',\n",
       "        'id': ['langchain', 'prompts', 'prompt', 'PromptTemplate'],\n",
       "        'kwargs': {'input_variables': ['topic'],\n",
       "         'template': 'tell me a joke about {topic}',\n",
       "         'template_format': 'f-string',\n",
       "         'partial_variables': {}}}}}]}},\n",
       "  'inputs': {'topic': 'sports'},\n",
       "  'run_id': 'ec1adee2-c67d-4232-84c2-67253aabca8d',\n",
       "  'parent_run_id': '37657598-2651-41da-b55a-e5dc960f650b',\n",
       "  'tags': ['seq:step:1'],\n",
       "  'metadata': {'__useragent': 'python-httpx/0.25.0',\n",
       "   '__langserve_version': '0.0.8'},\n",
       "  'kwargs': {'run_type': 'prompt', 'name': None},\n",
       "  'type': 'on_chain_start'},\n",
       " {'outputs': {'lc': 1,\n",
       "   'type': 'constructor',\n",
       "   'id': ['langchain', 'prompts', 'chat', 'ChatPromptValue'],\n",
       "   'kwargs': {'messages': [{'lc': 1,\n",
       "      'type': 'constructor',\n",
       "      'id': ['langchain', 'schema', 'messages', 'HumanMessage'],\n",
       "      'kwargs': HumanMessage(content='tell me a joke about sports')}]}},\n",
       "  'run_id': 'ec1adee2-c67d-4232-84c2-67253aabca8d',\n",
       "  'parent_run_id': '37657598-2651-41da-b55a-e5dc960f650b',\n",
       "  'tags': ['seq:step:1'],\n",
       "  'kwargs': {},\n",
       "  'type': 'on_chain_end'},\n",
       " {'serialized': {'lc': 1,\n",
       "   'type': 'constructor',\n",
       "   'id': ['langchain', 'chat_models', 'openai', 'ChatOpenAI'],\n",
       "   'kwargs': {'openai_api_key': {'lc': 1,\n",
       "     'type': 'secret',\n",
       "     'id': ['OPENAI_API_KEY']}}},\n",
       "  'prompts': ['Human: tell me a joke about sports'],\n",
       "  'run_id': '593efdb8-f7ab-42d7-8480-d60c0254404c',\n",
       "  'parent_run_id': '37657598-2651-41da-b55a-e5dc960f650b',\n",
       "  'tags': ['seq:step:2'],\n",
       "  'metadata': {'__useragent': 'python-httpx/0.25.0',\n",
       "   '__langserve_version': '0.0.8'},\n",
       "  'kwargs': {'invocation_params': {'model': 'gpt-3.5-turbo',\n",
       "    'model_name': 'gpt-3.5-turbo',\n",
       "    'request_timeout': None,\n",
       "    'max_tokens': None,\n",
       "    'stream': False,\n",
       "    'n': 1,\n",
       "    'temperature': 0.7,\n",
       "    '_type': 'openai-chat',\n",
       "    'stop': None},\n",
       "   'options': {'stop': None},\n",
       "   'name': None},\n",
       "  'type': 'on_llm_start'},\n",
       " {'response': LLMResult(generations=[[Generation(text=\"Why don't scientists trust atoms who play sports?\\n\\nBecause they make up everything!\", generation_info={'finish_reason': 'stop'})]], llm_output={'token_usage': {'prompt_tokens': 13, 'completion_tokens': 16, 'total_tokens': 29}, 'model_name': 'gpt-3.5-turbo'}, run=None),\n",
       "  'run_id': '593efdb8-f7ab-42d7-8480-d60c0254404c',\n",
       "  'parent_run_id': '37657598-2651-41da-b55a-e5dc960f650b',\n",
       "  'tags': ['seq:step:2'],\n",
       "  'kwargs': {},\n",
       "  'type': 'on_llm_end'},\n",
       " {'outputs': AIMessage(content=\"Why don't scientists trust atoms who play sports?\\n\\nBecause they make up everything!\"),\n",
       "  'run_id': '37657598-2651-41da-b55a-e5dc960f650b',\n",
       "  'parent_run_id': None,\n",
       "  'tags': [],\n",
       "  'kwargs': {},\n",
       "  'type': 'on_chain_end'}]"
      ]
     },
     "execution_count": 8,
     "metadata": {},
     "output_type": "execute_result"
    }
   ],
   "source": [
    "s"
   ]
  },
  {
   "cell_type": "markdown",
   "metadata": {},
   "source": [
    "The client can also execute langchain code synchronously, and pass in configs"
   ]
  },
  {
   "cell_type": "code",
   "execution_count": 25,
   "metadata": {
    "tags": []
   },
   "outputs": [
    {
     "data": {
      "text/plain": [
       "[AIMessage(content='Why did the soccer player bring string to the game?\\n\\nBecause he wanted to tie the score!'),\n",
       " AIMessage(content='Why did the car go to therapy?\\n\\nBecause it had too many breakdowns!')]"
      ]
     },
     "execution_count": 25,
     "metadata": {},
     "output_type": "execute_result"
    }
   ],
   "source": [
    "from langchain.schema.runnable.config import RunnableConfig\n",
    "\n",
    "remote_runnable.batch([{\"topic\": \"sports\"}, {\"topic\": \"cars\"}])"
   ]
  },
  {
   "cell_type": "markdown",
   "metadata": {},
   "source": [
    "The server supports streaming (using HTTP server-side events), which can help interact with long responses in real time"
   ]
  },
  {
   "cell_type": "code",
   "execution_count": 27,
   "metadata": {
    "tags": []
   },
   "outputs": [
    {
     "ename": "TypeError",
     "evalue": "'async for' requires an object with __aiter__ method, got AIMessage",
     "output_type": "error",
     "traceback": [
      "\u001b[0;31m---------------------------------------------------------------------------\u001b[0m",
      "\u001b[0;31mTypeError\u001b[0m                                 Traceback (most recent call last)",
      "Cell \u001b[0;32mIn[27], line 1\u001b[0m\n\u001b[0;32m----> 1\u001b[0m \u001b[38;5;28;01masync\u001b[39;00m \u001b[38;5;28;01mfor\u001b[39;00m chunk \u001b[38;5;129;01min\u001b[39;00m remote_runnable\u001b[38;5;241m.\u001b[39minvoke({\u001b[38;5;124m\"\u001b[39m\u001b[38;5;124mtopic\u001b[39m\u001b[38;5;124m\"\u001b[39m: \u001b[38;5;124m\"\u001b[39m\u001b[38;5;124mbears, but super verbose\u001b[39m\u001b[38;5;124m\"\u001b[39m}):\n\u001b[1;32m      2\u001b[0m     \u001b[38;5;28mprint\u001b[39m(chunk\u001b[38;5;241m.\u001b[39mcontent, end\u001b[38;5;241m=\u001b[39m\u001b[38;5;124m\"\u001b[39m\u001b[38;5;124m\"\u001b[39m, flush\u001b[38;5;241m=\u001b[39m\u001b[38;5;28;01mTrue\u001b[39;00m)\n",
      "\u001b[0;31mTypeError\u001b[0m: 'async for' requires an object with __aiter__ method, got AIMessage"
     ]
    }
   ],
   "source": [
    "async for chunk in remote_runnable.invoke({\"topic\": \"bears, but super verbose\"}):\n",
    "    print(chunk.content, end=\"\", flush=True)"
   ]
  },
  {
   "cell_type": "code",
   "execution_count": 26,
   "metadata": {
    "tags": []
   },
   "outputs": [
    {
     "name": "stdout",
     "output_type": "stream",
     "text": [
      "Once upon a time, in the vast wilderness, where the towering trees whispered ancient tales and the sunlight cascaded through the verdant canopy, a most peculiar encounter occurred between a sagacious wilderness explorer and a formidable bear.\n",
      "\n",
      "As the explorer, with an insatiable curiosity coursing through their veins, ventured deep into the heart of the untamed forest, brimming with courage and armed with knowledge, they stumbled upon a clearing where a majestic bear resided, its mesmerizing eyes glistening with wisdom.\n",
      "\n",
      "Awestruck by the immense presence of the bear, the explorer felt a tingle of trepidation resonate within their very being. However, undeterred by fear, they mustered the courage to engage in a discourse with the enigmatic creature, hoping to glean a morsel of insight or perhaps even provoke a chuckle.\n",
      "\n",
      "With trembling words, the explorer initiated their attempt at humor: \"Oh noble bear, whose formidable stature and boundless strength command respect from all creatures great and small, pray tell, do you know why bears never wear shoes?\"\n",
      "\n",
      "Intrigued by the explorer's audacity, the bear regarded them with a keen interest, contemplating the answer to this seemingly trivial riddle. After a contemplative pause, the bear responded with a deep timbre, \"Dear explorer, the enigma lies in the symbiotic relationship between our paws and the sacred earth beneath. For you see, the wilderness has bestowed upon us bears an innate wisdom, guiding us to tread upon nature's carpet with the utmost grace and sensitivity. Shoes, however, would sever this profound connection, rendering our footsteps devoid of harmony and our souls detached from the earth's soulful embrace.\"\n",
      "\n",
      "Amidst the profound silence that followed, the explorer's face contorted into a perplexed expression, their brows furrowed in deep contemplation, as they struggled to comprehend the bear's enigmatic response. Eventually, a glimmer of realization sparked within the explorer's mind, and, with a befuddled smile, they exclaimed, \"Ah, I see! By wearing shoes, bears would be deprived of the sacred bond they share with nature, for their paws possess an inherent wisdom that transcends the need for footwear!\"\n",
      "\n",
      "And so, dear interlocutor, this tale serves as a reminder that the interconnectedness between the natural world and its inhabitants, even in the realm of humor, can be as profound and complex as the wilderness itself."
     ]
    }
   ],
   "source": [
    "async for chunk in remote_runnable.astream({\"topic\": \"bears, but super verbose\"}):\n",
    "    print(chunk.content, end=\"\", flush=True)"
   ]
  },
  {
   "cell_type": "code",
   "execution_count": null,
   "metadata": {},
   "outputs": [],
   "source": []
  }
 ],
 "metadata": {
  "kernelspec": {
   "display_name": "Python 3 (ipykernel)",
   "language": "python",
   "name": "python3"
  },
  "language_info": {
   "codemirror_mode": {
    "name": "ipython",
    "version": 3
   },
   "file_extension": ".py",
   "mimetype": "text/x-python",
   "name": "python",
   "nbconvert_exporter": "python",
   "pygments_lexer": "ipython3",
   "version": "3.9.6"
  }
 },
 "nbformat": 4,
 "nbformat_minor": 4
}
